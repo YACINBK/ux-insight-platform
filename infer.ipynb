{
 "cells": [
  {
   "cell_type": "code",
   "execution_count": 2,
   "id": "80126482",
   "metadata": {},
   "outputs": [
    {
     "name": "stdout",
     "output_type": "stream",
     "text": [
      "Output 0: shape (1, 19, 8400), dtype float32\n",
      "First 5 values: [14.250538 23.148117 35.965897 45.265194 49.20284 ]\n"
     ]
    }
   ],
   "source": [
    "import onnxruntime as ort\n",
    "import numpy as np\n",
    "from PIL import Image\n",
    "\n",
    "# Path to your ONNX model and image\n",
    "model_path = r\"C:\\Users\\YACIN\\Desktop\\beta_ux_project\\backend\\triton-models\\best\\1\\model.onnx\"\n",
    "image_path = r\"D:\\dataset\\combined\\200.jpg\"  # Use the same image as in Triton\n",
    "\n",
    "# Preprocess the image (same as in triton_postprocess.py)\n",
    "img = Image.open(image_path).convert(\"RGB\")\n",
    "img = img.resize((640, 640))\n",
    "img_np = np.array(img).astype(np.float32) / 255.0\n",
    "img_np = img_np.transpose(2, 0, 1)\n",
    "img_np = np.expand_dims(img_np, axis=0)\n",
    "\n",
    "# Create an ONNX Runtime session\n",
    "session = ort.InferenceSession(model_path)\n",
    "\n",
    "# Run inference\n",
    "input_name = session.get_inputs()[0].name\n",
    "outputs = session.run(None, {input_name: img_np})\n",
    "\n",
    "# Print output details\n",
    "for i, output in enumerate(outputs):\n",
    "    print(f\"Output {i}: shape {output.shape}, dtype {output.dtype}\")\n",
    "    print(\"First 5 values:\", output.flatten()[:5])"
   ]
  }
 ],
 "metadata": {
  "kernelspec": {
   "display_name": "base",
   "language": "python",
   "name": "python3"
  },
  "language_info": {
   "codemirror_mode": {
    "name": "ipython",
    "version": 3
   },
   "file_extension": ".py",
   "mimetype": "text/x-python",
   "name": "python",
   "nbconvert_exporter": "python",
   "pygments_lexer": "ipython3",
   "version": "3.12.7"
  }
 },
 "nbformat": 4,
 "nbformat_minor": 5
}
